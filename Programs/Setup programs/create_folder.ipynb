{
 "cells": [
  {
   "cell_type": "code",
   "execution_count": 1,
   "metadata": {},
   "outputs": [],
   "source": [
    "import os\n",
    "import pathlib\n"
   ]
  },
  {
   "cell_type": "code",
   "execution_count": 2,
   "metadata": {},
   "outputs": [],
   "source": [
    "all_plant_names = [\n",
    "    \"Acacia mearnsii\",\n",
    "    \"Antigonon leptopus\",\n",
    "    \"Arundo donax\",\n",
    "    \"Cabomba furcata\",\n",
    "    \"Chromolaena odorata\",\n",
    "    \"Ipomoea cairica\",\n",
    "    \"Lantana camara\",\n",
    "    \"Mikania micrantha\",\n",
    "    \"Mimosa diplotricha\",\n",
    "    \"Parthenium hysterophorus\",\n",
    "    \"Pistia stratiotes\",\n",
    "    \"Prosopis juliflora\",\n",
    "    \"Salvinia molesta\",\n",
    "    \"Senna spectabilis\",\n",
    "    \"Sphagneticola trilobata\",\n",
    "    \"Pontederia crassipes\",\n",
    "]\n"
   ]
  },
  {
   "cell_type": "code",
   "execution_count": 5,
   "metadata": {},
   "outputs": [
    {
     "data": {
      "text/plain": [
       "['Acacia mearnsii',\n",
       " 'Antigonon leptopus',\n",
       " 'Arundo donax',\n",
       " 'Cabomba furcata',\n",
       " 'Chromolaena odorata',\n",
       " 'Ipomoea cairica',\n",
       " 'Lantana camara',\n",
       " 'Mikania micrantha',\n",
       " 'Mimosa diplotricha',\n",
       " 'Parthenium hysterophorus',\n",
       " 'Pistia stratiotes',\n",
       " 'Pontederia crassipes',\n",
       " 'Prosopis juliflora',\n",
       " 'Salvinia molesta',\n",
       " 'Senna spectabilis',\n",
       " 'Sphagneticola trilobata']"
      ]
     },
     "execution_count": 5,
     "metadata": {},
     "output_type": "execute_result"
    }
   ],
   "source": [
    "directory = pathlib.Path(r\"C:\\Users\\zuraj\\Downloads\\MiniProjectNew\\Dataset\")\n",
    "\n",
    "existing_plant_names = os.listdir(directory)\n",
    "existing_plant_names\n"
   ]
  },
  {
   "cell_type": "code",
   "execution_count": 6,
   "metadata": {},
   "outputs": [],
   "source": [
    "for plant in all_plant_names:\n",
    "    if plant not in existing_plant_names:\n",
    "        os.makedirs(os.path.join(directory, plant))\n"
   ]
  },
  {
   "cell_type": "code",
   "execution_count": 8,
   "metadata": {},
   "outputs": [
    {
     "data": {
      "text/plain": [
       "['Acacia mearnsii',\n",
       " 'Antigonon leptopus',\n",
       " 'Arundo donax',\n",
       " 'Cabomba furcata',\n",
       " 'Chromolaena odorata',\n",
       " 'Ipomoea cairica',\n",
       " 'Lantana camara',\n",
       " 'Mikania micrantha',\n",
       " 'Mimosa diplotricha',\n",
       " 'Parthenium hysterophorus',\n",
       " 'Pistia stratiotes',\n",
       " 'Pontederia crassipes',\n",
       " 'Prosopis juliflora',\n",
       " 'Salvinia molesta',\n",
       " 'Senna spectabilis',\n",
       " 'Sphagneticola trilobata']"
      ]
     },
     "execution_count": 8,
     "metadata": {},
     "output_type": "execute_result"
    }
   ],
   "source": [
    "os.listdir(directory)\n"
   ]
  },
  {
   "cell_type": "code",
   "execution_count": null,
   "metadata": {},
   "outputs": [],
   "source": []
  }
 ],
 "metadata": {
  "kernelspec": {
   "display_name": "base",
   "language": "python",
   "name": "python3"
  },
  "language_info": {
   "codemirror_mode": {
    "name": "ipython",
    "version": 3
   },
   "file_extension": ".py",
   "mimetype": "text/x-python",
   "name": "python",
   "nbconvert_exporter": "python",
   "pygments_lexer": "ipython3",
   "version": "3.9.12"
  },
  "orig_nbformat": 4
 },
 "nbformat": 4,
 "nbformat_minor": 2
}
