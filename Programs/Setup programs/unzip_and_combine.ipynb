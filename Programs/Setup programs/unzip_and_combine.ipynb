{
 "cells": [
  {
   "cell_type": "code",
   "execution_count": 1,
   "metadata": {},
   "outputs": [],
   "source": [
    "import os\n",
    "import zipfile\n",
    "import pathlib\n"
   ]
  },
  {
   "cell_type": "code",
   "execution_count": 2,
   "metadata": {},
   "outputs": [],
   "source": [
    "def extract_zipfiles_from_directory(directory_path):\n",
    "    for ele in os.listdir(directory_path):\n",
    "        zip_file_path = os.path.join(directory_path, ele)\n",
    "        if os.path.isfile(zip_file_path) and zipfile.is_zipfile(zip_file_path):\n",
    "            with zipfile.ZipFile(zip_file_path, \"r\") as zip_ref:\n",
    "                zip_ref.extractall(directory_path)\n",
    "                print(f\"Unzipped: {zip_file_path}\")"
   ]
  },
  {
   "cell_type": "code",
   "execution_count": 3,
   "metadata": {},
   "outputs": [],
   "source": [
    "def remove_zip_folders(directory):\n",
    "    for root, dirs, files in os.walk(directory):\n",
    "        for file in files:\n",
    "            if file.endswith(\".zip\"):\n",
    "                file_path = os.path.join(root, file)\n",
    "                os.remove(file_path)\n",
    "                print(f\"Removed zip folder: {file_path}\")"
   ]
  },
  {
   "cell_type": "code",
   "execution_count": 4,
   "metadata": {},
   "outputs": [
    {
     "name": "stdout",
     "output_type": "stream",
     "text": [
      "Currently processing : C:\\Users\\zuraj\\Downloads\\MiniProjectNew\\Dataset\\Acacia mearnsii\n",
      "Currently processing : C:\\Users\\zuraj\\Downloads\\MiniProjectNew\\Dataset\\Antigonon leptopus\n",
      "Currently processing : C:\\Users\\zuraj\\Downloads\\MiniProjectNew\\Dataset\\Arundo donax\n",
      "Currently processing : C:\\Users\\zuraj\\Downloads\\MiniProjectNew\\Dataset\\Cabomba furcata\n",
      "Unzipped: C:\\Users\\zuraj\\Downloads\\MiniProjectNew\\Dataset\\Cabomba furcata\\4cbe5b8a-8463-4a62-888c-ce7f7320090a.zip\n",
      "Removed zip folder: C:\\Users\\zuraj\\Downloads\\MiniProjectNew\\Dataset\\Cabomba furcata\\4cbe5b8a-8463-4a62-888c-ce7f7320090a.zip\n",
      "Currently processing : C:\\Users\\zuraj\\Downloads\\MiniProjectNew\\Dataset\\Chromolaena odorata\n",
      "Currently processing : C:\\Users\\zuraj\\Downloads\\MiniProjectNew\\Dataset\\Ipomoea cairica\n",
      "Currently processing : C:\\Users\\zuraj\\Downloads\\MiniProjectNew\\Dataset\\Lantana camara\n",
      "Currently processing : C:\\Users\\zuraj\\Downloads\\MiniProjectNew\\Dataset\\Mikania micrantha\n",
      "Currently processing : C:\\Users\\zuraj\\Downloads\\MiniProjectNew\\Dataset\\Mimosa diplotricha\n",
      "Currently processing : C:\\Users\\zuraj\\Downloads\\MiniProjectNew\\Dataset\\Parthenium hysterophorus\n",
      "Currently processing : C:\\Users\\zuraj\\Downloads\\MiniProjectNew\\Dataset\\Pistia stratiotes\n",
      "Currently processing : C:\\Users\\zuraj\\Downloads\\MiniProjectNew\\Dataset\\Pontederia crassipes\n",
      "Currently processing : C:\\Users\\zuraj\\Downloads\\MiniProjectNew\\Dataset\\Prosopis juliflora\n",
      "Currently processing : C:\\Users\\zuraj\\Downloads\\MiniProjectNew\\Dataset\\Salvinia molesta\n",
      "Unzipped: C:\\Users\\zuraj\\Downloads\\MiniProjectNew\\Dataset\\Salvinia molesta\\f16052aa-ffd8-4485-86d5-8606d6695167.zip\n",
      "Removed zip folder: C:\\Users\\zuraj\\Downloads\\MiniProjectNew\\Dataset\\Salvinia molesta\\f16052aa-ffd8-4485-86d5-8606d6695167.zip\n",
      "Currently processing : C:\\Users\\zuraj\\Downloads\\MiniProjectNew\\Dataset\\Senna spectabilis\n",
      "Currently processing : C:\\Users\\zuraj\\Downloads\\MiniProjectNew\\Dataset\\Sphagneticola trilobata\n"
     ]
    }
   ],
   "source": [
    "parent_directory = pathlib.Path(r\"C:\\Users\\zuraj\\Downloads\\MiniProjectNew\\Dataset\")\n",
    "\n",
    "for root, dirs, files in os.walk(parent_directory):\n",
    "    for plant_name in dirs:\n",
    "        directory_path = os.path.join(parent_directory, plant_name)\n",
    "        print(\"Currently processing :\", directory_path)\n",
    "        extract_zipfiles_from_directory(directory_path)\n",
    "        remove_zip_folders(directory_path)"
   ]
  },
  {
   "cell_type": "code",
   "execution_count": null,
   "metadata": {},
   "outputs": [],
   "source": []
  }
 ],
 "metadata": {
  "kernelspec": {
   "display_name": "base",
   "language": "python",
   "name": "python3"
  },
  "language_info": {
   "codemirror_mode": {
    "name": "ipython",
    "version": 3
   },
   "file_extension": ".py",
   "mimetype": "text/x-python",
   "name": "python",
   "nbconvert_exporter": "python",
   "pygments_lexer": "ipython3",
   "version": "3.9.12"
  },
  "orig_nbformat": 4
 },
 "nbformat": 4,
 "nbformat_minor": 2
}
