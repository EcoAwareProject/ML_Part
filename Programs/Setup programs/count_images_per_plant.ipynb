{
 "cells": [
  {
   "cell_type": "code",
   "execution_count": 1,
   "metadata": {},
   "outputs": [],
   "source": [
    "import os\n"
   ]
  },
  {
   "cell_type": "code",
   "execution_count": 3,
   "metadata": {},
   "outputs": [
    {
     "name": "stdout",
     "output_type": "stream",
     "text": [
      "The no of images of Acacia mearnsii is 1248\n",
      "The no of images of Antigonon leptopus is 1974\n",
      "The no of images of Arundo donax is 1628\n",
      "The no of images of Cabomba furcata is 804\n",
      "The no of images of Chromolaena odorata is 1434\n",
      "The no of images of Ipomoea cairica is 1051\n",
      "The no of images of Lantana camara is 1673\n",
      "The no of images of Mikania micrantha is 1152\n",
      "The no of images of Mimosa diplotricha is 905\n",
      "The no of images of Parthenium hysterophorus is 1023\n",
      "The no of images of Pistia stratiotes is 1529\n",
      "The no of images of Pontederia crassipes is 1490\n",
      "The no of images of Prosopis juliflora is 1621\n",
      "The no of images of Salvinia molesta is 922\n",
      "The no of images of Senna spectabilis is 1246\n",
      "The no of images of Sphagneticola trilobata is 2714\n"
     ]
    }
   ],
   "source": [
    "dir_path = r\"C:\\Users\\zuraj\\Downloads\\MiniProjectNew\\Dataset\"\n",
    "\n",
    "for plant in os.listdir(dir_path):\n",
    "    image_list = os.listdir(os.path.join(dir_path, plant))\n",
    "    print(f\"The no of images of {plant} is {len(image_list)}\")\n"
   ]
  },
  {
   "cell_type": "code",
   "execution_count": 2,
   "metadata": {},
   "outputs": [
    {
     "name": "stdout",
     "output_type": "stream",
     "text": [
      "The no of images of Acacia mearnsii is 816\n",
      "The no of images of Antigonon leptopus is 1713\n",
      "The no of images of Arundo donax is 1079\n",
      "The no of images of Cabomba furcata is 783\n",
      "The no of images of Chromolaena odorata is 1036\n",
      "The no of images of Ipomoea cairica is 889\n",
      "The no of images of Lantana camara is 1352\n",
      "The no of images of Mikania micrantha is 732\n",
      "The no of images of Mimosa diplotricha is 769\n",
      "The no of images of Parthenium hysterophorus is 764\n",
      "The no of images of Pistia stratiotes is 1162\n",
      "The no of images of Pontederia crassipes is 1077\n",
      "The no of images of Prosopis juliflora is 1347\n",
      "The no of images of Salvinia molesta is 867\n",
      "The no of images of Senna spectabilis is 982\n",
      "The no of images of Sphagneticola trilobata is 2326\n"
     ]
    }
   ],
   "source": [
    "dir_path = r\"C:\\Users\\zuraj\\Downloads\\MiniProjectNew\\Dataset\"\n",
    "\n",
    "for plant in os.listdir(dir_path):\n",
    "    image_list = os.listdir(os.path.join(dir_path, plant))\n",
    "    print(f\"The no of images of {plant} is {len(image_list)}\")\n"
   ]
  }
 ],
 "metadata": {
  "kernelspec": {
   "display_name": "base",
   "language": "python",
   "name": "python3"
  },
  "language_info": {
   "codemirror_mode": {
    "name": "ipython",
    "version": 3
   },
   "file_extension": ".py",
   "mimetype": "text/x-python",
   "name": "python",
   "nbconvert_exporter": "python",
   "pygments_lexer": "ipython3",
   "version": "3.9.12"
  },
  "orig_nbformat": 4
 },
 "nbformat": 4,
 "nbformat_minor": 2
}
