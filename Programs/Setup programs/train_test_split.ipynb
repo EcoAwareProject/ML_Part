{
 "cells": [
  {
   "cell_type": "code",
   "execution_count": 1,
   "metadata": {},
   "outputs": [],
   "source": [
    "import os\n",
    "import random\n",
    "import shutil\n",
    "import pathlib"
   ]
  },
  {
   "cell_type": "code",
   "execution_count": 2,
   "metadata": {},
   "outputs": [],
   "source": [
    "full_data_path = pathlib.Path(\n",
    "    r\"C:\\Users\\zuraj\\Downloads\\MiniProjectNew\\Dataset\")\n",
    "destination_dir = pathlib.Path(\n",
    "    r\"C:\\Users\\zuraj\\Downloads\\MiniProjectNew\\Train_test_data\"\n",
    ")\n"
   ]
  },
  {
   "cell_type": "code",
   "execution_count": 3,
   "metadata": {},
   "outputs": [
    {
     "name": "stdout",
     "output_type": "stream",
     "text": [
      "Acacia mearnsii\n",
      "Antigonon leptopus\n",
      "Arundo donax\n",
      "Cabomba furcata\n",
      "Chromolaena odorata\n",
      "Ipomoea cairica\n",
      "Lantana camara\n",
      "Mikania micrantha\n",
      "Mimosa diplotricha\n",
      "Parthenium hysterophorus\n",
      "Pistia stratiotes\n",
      "Pontederia crassipes\n",
      "Prosopis juliflora\n",
      "Salvinia molesta\n",
      "Senna spectabilis\n",
      "Sphagneticola trilobata\n",
      "Length:  16\n"
     ]
    }
   ],
   "source": [
    "plant_names = [\n",
    "    name\n",
    "    for name in os.listdir(full_data_path)\n",
    "    if os.path.isdir(os.path.join(full_data_path, name))\n",
    "]\n",
    "\n",
    "for plant in plant_names:\n",
    "    print(plant)\n",
    "\n",
    "print(\"Length: \", len(plant_names))"
   ]
  },
  {
   "cell_type": "code",
   "execution_count": 4,
   "metadata": {},
   "outputs": [],
   "source": [
    "def train_test_split(source_dir, source_folder, dest_dir, train_set_size=750):\n",
    "    dest_folder = source_folder\n",
    "    source = os.path.join(source_dir, source_folder)\n",
    "\n",
    "    train_dir = os.path.join(dest_dir, \"Train\")\n",
    "    test_dir = os.path.join(dest_dir, \"Test\")\n",
    "\n",
    "    train_folder = os.path.join(train_dir, dest_folder)\n",
    "    test_folder = os.path.join(test_dir, dest_folder)\n",
    "\n",
    "    if not os.path.exists(train_folder):\n",
    "        os.makedirs(train_folder)\n",
    "    if not os.path.exists(test_folder):\n",
    "        os.makedirs(test_folder)\n",
    "\n",
    "    images = os.listdir(source)\n",
    "\n",
    "    selected_images = random.sample(images, min(train_set_size, len(images)))\n",
    "\n",
    "    for image in selected_images:\n",
    "        src_path = os.path.join(source, image)\n",
    "        dst_path = os.path.join(train_folder, image)\n",
    "        shutil.copy2(src_path, dst_path)\n",
    "\n",
    "    # Copy the remaining files to the test folder\n",
    "    for image in images:\n",
    "        if image not in selected_images:\n",
    "            src_path = os.path.join(source, image)\n",
    "            dst_path = os.path.join(test_folder, image)\n",
    "            shutil.copy2(src_path, dst_path)\n"
   ]
  },
  {
   "cell_type": "code",
   "execution_count": 5,
   "metadata": {},
   "outputs": [],
   "source": [
    "for plant in plant_names:\n",
    "    train_test_split(\n",
    "        source_dir=full_data_path, source_folder=plant, dest_dir=destination_dir\n",
    "    )"
   ]
  },
  {
   "cell_type": "code",
   "execution_count": null,
   "metadata": {},
   "outputs": [],
   "source": []
  }
 ],
 "metadata": {
  "kernelspec": {
   "display_name": "base",
   "language": "python",
   "name": "python3"
  },
  "language_info": {
   "codemirror_mode": {
    "name": "ipython",
    "version": 3
   },
   "file_extension": ".py",
   "mimetype": "text/x-python",
   "name": "python",
   "nbconvert_exporter": "python",
   "pygments_lexer": "ipython3",
   "version": "3.9.13"
  },
  "orig_nbformat": 4
 },
 "nbformat": 4,
 "nbformat_minor": 2
}
